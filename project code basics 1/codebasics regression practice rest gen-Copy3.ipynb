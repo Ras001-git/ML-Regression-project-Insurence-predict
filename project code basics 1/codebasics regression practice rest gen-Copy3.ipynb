{
 "cells": [
  {
   "cell_type": "code",
   "execution_count": 1,
   "id": "3f0dbfa8",
   "metadata": {},
   "outputs": [
    {
     "name": "stdout",
     "output_type": "stream",
     "text": [
      "Requirement already satisfied: numpy in c:\\programdata\\anaconda3\\lib\\site-packages (2.0.2)\n",
      "Note: you may need to restart the kernel to use updated packages.\n"
     ]
    }
   ],
   "source": []
  },
  {
   "cell_type": "code",
   "execution_count": 3,
   "id": "ba274dc7",
   "metadata": {},
   "outputs": [
    {
     "ename": "ValueError",
     "evalue": "numpy.dtype size changed, may indicate binary incompatibility. Expected 96 from C header, got 88 from PyObject",
     "output_type": "error",
     "traceback": [
      "\u001b[1;31m---------------------------------------------------------------------------\u001b[0m",
      "\u001b[1;31mValueError\u001b[0m                                Traceback (most recent call last)",
      "\u001b[1;32m~\\AppData\\Local\\Temp\\ipykernel_14044\\228269461.py\u001b[0m in \u001b[0;36m<module>\u001b[1;34m\u001b[0m\n\u001b[1;32m----> 1\u001b[1;33m \u001b[1;32mimport\u001b[0m \u001b[0mpandas\u001b[0m \u001b[1;32mas\u001b[0m \u001b[0mpd\u001b[0m\u001b[1;33m\u001b[0m\u001b[1;33m\u001b[0m\u001b[0m\n\u001b[0m\u001b[0;32m      2\u001b[0m \u001b[1;32mimport\u001b[0m \u001b[0mnumpy\u001b[0m \u001b[1;32mas\u001b[0m \u001b[0mnp\u001b[0m\u001b[1;33m\u001b[0m\u001b[1;33m\u001b[0m\u001b[0m\n\u001b[0;32m      3\u001b[0m \u001b[1;32mfrom\u001b[0m \u001b[0mmatplotlib\u001b[0m \u001b[1;32mimport\u001b[0m \u001b[0mpyplot\u001b[0m \u001b[1;32mas\u001b[0m \u001b[0mplt\u001b[0m\u001b[1;33m\u001b[0m\u001b[1;33m\u001b[0m\u001b[0m\n\u001b[0;32m      4\u001b[0m \u001b[1;32mimport\u001b[0m \u001b[0mseaborn\u001b[0m \u001b[1;32mas\u001b[0m \u001b[0msns\u001b[0m\u001b[1;33m\u001b[0m\u001b[1;33m\u001b[0m\u001b[0m\n\u001b[0;32m      5\u001b[0m \u001b[1;32mfrom\u001b[0m \u001b[0msklearn\u001b[0m\u001b[1;33m.\u001b[0m\u001b[0mlinear_model\u001b[0m \u001b[1;32mimport\u001b[0m \u001b[0mLinearRegression\u001b[0m\u001b[1;33m,\u001b[0m \u001b[0mRidge\u001b[0m\u001b[1;33m,\u001b[0m \u001b[0mLasso\u001b[0m\u001b[1;33m\u001b[0m\u001b[1;33m\u001b[0m\u001b[0m\n",
      "\u001b[1;32mC:\\ProgramData\\Anaconda3\\lib\\site-packages\\pandas\\__init__.py\u001b[0m in \u001b[0;36m<module>\u001b[1;34m\u001b[0m\n\u001b[0;32m     20\u001b[0m \u001b[1;33m\u001b[0m\u001b[0m\n\u001b[0;32m     21\u001b[0m \u001b[1;31m# numpy compat\u001b[0m\u001b[1;33m\u001b[0m\u001b[1;33m\u001b[0m\u001b[0m\n\u001b[1;32m---> 22\u001b[1;33m \u001b[1;32mfrom\u001b[0m \u001b[0mpandas\u001b[0m\u001b[1;33m.\u001b[0m\u001b[0mcompat\u001b[0m \u001b[1;32mimport\u001b[0m \u001b[0mis_numpy_dev\u001b[0m \u001b[1;32mas\u001b[0m \u001b[0m_is_numpy_dev\u001b[0m\u001b[1;33m\u001b[0m\u001b[1;33m\u001b[0m\u001b[0m\n\u001b[0m\u001b[0;32m     23\u001b[0m \u001b[1;33m\u001b[0m\u001b[0m\n\u001b[0;32m     24\u001b[0m \u001b[1;32mtry\u001b[0m\u001b[1;33m:\u001b[0m\u001b[1;33m\u001b[0m\u001b[1;33m\u001b[0m\u001b[0m\n",
      "\u001b[1;32mC:\\ProgramData\\Anaconda3\\lib\\site-packages\\pandas\\compat\\__init__.py\u001b[0m in \u001b[0;36m<module>\u001b[1;34m\u001b[0m\n\u001b[0;32m     13\u001b[0m \u001b[1;33m\u001b[0m\u001b[0m\n\u001b[0;32m     14\u001b[0m \u001b[1;32mfrom\u001b[0m \u001b[0mpandas\u001b[0m\u001b[1;33m.\u001b[0m\u001b[0m_typing\u001b[0m \u001b[1;32mimport\u001b[0m \u001b[0mF\u001b[0m\u001b[1;33m\u001b[0m\u001b[1;33m\u001b[0m\u001b[0m\n\u001b[1;32m---> 15\u001b[1;33m from pandas.compat.numpy import (\n\u001b[0m\u001b[0;32m     16\u001b[0m     \u001b[0mis_numpy_dev\u001b[0m\u001b[1;33m,\u001b[0m\u001b[1;33m\u001b[0m\u001b[1;33m\u001b[0m\u001b[0m\n\u001b[0;32m     17\u001b[0m     \u001b[0mnp_version_under1p19\u001b[0m\u001b[1;33m,\u001b[0m\u001b[1;33m\u001b[0m\u001b[1;33m\u001b[0m\u001b[0m\n",
      "\u001b[1;32mC:\\ProgramData\\Anaconda3\\lib\\site-packages\\pandas\\compat\\numpy\\__init__.py\u001b[0m in \u001b[0;36m<module>\u001b[1;34m\u001b[0m\n\u001b[0;32m      2\u001b[0m \u001b[1;32mimport\u001b[0m \u001b[0mnumpy\u001b[0m \u001b[1;32mas\u001b[0m \u001b[0mnp\u001b[0m\u001b[1;33m\u001b[0m\u001b[1;33m\u001b[0m\u001b[0m\n\u001b[0;32m      3\u001b[0m \u001b[1;33m\u001b[0m\u001b[0m\n\u001b[1;32m----> 4\u001b[1;33m \u001b[1;32mfrom\u001b[0m \u001b[0mpandas\u001b[0m\u001b[1;33m.\u001b[0m\u001b[0mutil\u001b[0m\u001b[1;33m.\u001b[0m\u001b[0mversion\u001b[0m \u001b[1;32mimport\u001b[0m \u001b[0mVersion\u001b[0m\u001b[1;33m\u001b[0m\u001b[1;33m\u001b[0m\u001b[0m\n\u001b[0m\u001b[0;32m      5\u001b[0m \u001b[1;33m\u001b[0m\u001b[0m\n\u001b[0;32m      6\u001b[0m \u001b[1;31m# numpy versioning\u001b[0m\u001b[1;33m\u001b[0m\u001b[1;33m\u001b[0m\u001b[0m\n",
      "\u001b[1;32mC:\\ProgramData\\Anaconda3\\lib\\site-packages\\pandas\\util\\__init__.py\u001b[0m in \u001b[0;36m<module>\u001b[1;34m\u001b[0m\n\u001b[1;32m----> 1\u001b[1;33m from pandas.util._decorators import (  # noqa:F401\n\u001b[0m\u001b[0;32m      2\u001b[0m     \u001b[0mAppender\u001b[0m\u001b[1;33m,\u001b[0m\u001b[1;33m\u001b[0m\u001b[1;33m\u001b[0m\u001b[0m\n\u001b[0;32m      3\u001b[0m     \u001b[0mSubstitution\u001b[0m\u001b[1;33m,\u001b[0m\u001b[1;33m\u001b[0m\u001b[1;33m\u001b[0m\u001b[0m\n\u001b[0;32m      4\u001b[0m     \u001b[0mcache_readonly\u001b[0m\u001b[1;33m,\u001b[0m\u001b[1;33m\u001b[0m\u001b[1;33m\u001b[0m\u001b[0m\n\u001b[0;32m      5\u001b[0m )\n",
      "\u001b[1;32mC:\\ProgramData\\Anaconda3\\lib\\site-packages\\pandas\\util\\_decorators.py\u001b[0m in \u001b[0;36m<module>\u001b[1;34m\u001b[0m\n\u001b[0;32m     12\u001b[0m \u001b[1;32mimport\u001b[0m \u001b[0mwarnings\u001b[0m\u001b[1;33m\u001b[0m\u001b[1;33m\u001b[0m\u001b[0m\n\u001b[0;32m     13\u001b[0m \u001b[1;33m\u001b[0m\u001b[0m\n\u001b[1;32m---> 14\u001b[1;33m \u001b[1;32mfrom\u001b[0m \u001b[0mpandas\u001b[0m\u001b[1;33m.\u001b[0m\u001b[0m_libs\u001b[0m\u001b[1;33m.\u001b[0m\u001b[0mproperties\u001b[0m \u001b[1;32mimport\u001b[0m \u001b[0mcache_readonly\u001b[0m  \u001b[1;31m# noqa:F401\u001b[0m\u001b[1;33m\u001b[0m\u001b[1;33m\u001b[0m\u001b[0m\n\u001b[0m\u001b[0;32m     15\u001b[0m \u001b[1;32mfrom\u001b[0m \u001b[0mpandas\u001b[0m\u001b[1;33m.\u001b[0m\u001b[0m_typing\u001b[0m \u001b[1;32mimport\u001b[0m \u001b[0mF\u001b[0m\u001b[1;33m\u001b[0m\u001b[1;33m\u001b[0m\u001b[0m\n\u001b[0;32m     16\u001b[0m \u001b[1;33m\u001b[0m\u001b[0m\n",
      "\u001b[1;32mC:\\ProgramData\\Anaconda3\\lib\\site-packages\\pandas\\_libs\\__init__.py\u001b[0m in \u001b[0;36m<module>\u001b[1;34m\u001b[0m\n\u001b[0;32m     11\u001b[0m \u001b[1;33m\u001b[0m\u001b[0m\n\u001b[0;32m     12\u001b[0m \u001b[1;33m\u001b[0m\u001b[0m\n\u001b[1;32m---> 13\u001b[1;33m \u001b[1;32mfrom\u001b[0m \u001b[0mpandas\u001b[0m\u001b[1;33m.\u001b[0m\u001b[0m_libs\u001b[0m\u001b[1;33m.\u001b[0m\u001b[0minterval\u001b[0m \u001b[1;32mimport\u001b[0m \u001b[0mInterval\u001b[0m\u001b[1;33m\u001b[0m\u001b[1;33m\u001b[0m\u001b[0m\n\u001b[0m\u001b[0;32m     14\u001b[0m from pandas._libs.tslibs import (\n\u001b[0;32m     15\u001b[0m     \u001b[0mNaT\u001b[0m\u001b[1;33m,\u001b[0m\u001b[1;33m\u001b[0m\u001b[1;33m\u001b[0m\u001b[0m\n",
      "\u001b[1;32mC:\\ProgramData\\Anaconda3\\lib\\site-packages\\pandas\\_libs\\interval.pyx\u001b[0m in \u001b[0;36minit pandas._libs.interval\u001b[1;34m()\u001b[0m\n",
      "\u001b[1;31mValueError\u001b[0m: numpy.dtype size changed, may indicate binary incompatibility. Expected 96 from C header, got 88 from PyObject"
     ]
    }
   ],
   "source": [
    "import pandas as pd\n",
    "import numpy as np\n",
    "from matplotlib import pyplot as plt\n",
    "import seaborn as sns\n",
    "from sklearn.linear_model import LinearRegression, Ridge, Lasso\n",
    "from sklearn.metrics import r2_score, mean_squared_error, mean_absolute_error\n",
    "from statsmodels.stats.outliers_influence import variance_inflation_factor\n",
    "from sklearn.model_selection import train_test_split, cross_val_score\n",
    "from sklearn.model_selection import GridSearchCV, RandomizedSearchCV, train_test_split"
   ]
  },
  {
   "cell_type": "code",
   "execution_count": null,
   "id": "f0d39305",
   "metadata": {},
   "outputs": [],
   "source": [
    "df = pd.read_excel(\"premiums_rest.xlsx\")\n",
    "df.head(3)"
   ]
  },
  {
   "cell_type": "code",
   "execution_count": null,
   "id": "b88eb24a",
   "metadata": {},
   "outputs": [],
   "source": [
    "df['Genetical_Risk']=0"
   ]
  },
  {
   "cell_type": "code",
   "execution_count": null,
   "id": "9ca81e16",
   "metadata": {},
   "outputs": [],
   "source": [
    "df.shape"
   ]
  },
  {
   "cell_type": "code",
   "execution_count": null,
   "id": "4aeda964",
   "metadata": {},
   "outputs": [],
   "source": [
    "df.columns = df.columns.str.replace(\" \",\"_\").str.lower()\n",
    "df.head(1)"
   ]
  },
  {
   "cell_type": "code",
   "execution_count": null,
   "id": "5664e09b",
   "metadata": {},
   "outputs": [],
   "source": [
    "df.isna().sum()"
   ]
  },
  {
   "cell_type": "code",
   "execution_count": null,
   "id": "fd15b300",
   "metadata": {},
   "outputs": [],
   "source": [
    "df.dropna(inplace=True)\n",
    "df.isna().sum()"
   ]
  },
  {
   "cell_type": "code",
   "execution_count": null,
   "id": "44f80e59",
   "metadata": {},
   "outputs": [],
   "source": [
    "df.duplicated().sum()"
   ]
  },
  {
   "cell_type": "code",
   "execution_count": null,
   "id": "3797efff",
   "metadata": {},
   "outputs": [],
   "source": [
    "df.drop_duplicates(inplace=True)\n",
    "df.duplicated().sum()"
   ]
  },
  {
   "cell_type": "code",
   "execution_count": null,
   "id": "5e5c9872",
   "metadata": {},
   "outputs": [],
   "source": [
    "df.describe()"
   ]
  },
  {
   "cell_type": "code",
   "execution_count": null,
   "id": "c064bae8",
   "metadata": {},
   "outputs": [],
   "source": [
    "df[df['number_of_dependants']<0]['number_of_dependants'].unique()"
   ]
  },
  {
   "cell_type": "code",
   "execution_count": null,
   "id": "bb2d9cc8",
   "metadata": {},
   "outputs": [],
   "source": [
    "df['number_of_dependants'] = df['number_of_dependants'].abs()\n",
    "\n",
    "df.describe()"
   ]
  },
  {
   "cell_type": "code",
   "execution_count": null,
   "id": "0dcdd55f",
   "metadata": {},
   "outputs": [],
   "source": [
    "numeric_columns = df.select_dtypes(include=['float64', 'int64']).columns\n",
    "numeric_columns "
   ]
  },
  {
   "cell_type": "code",
   "execution_count": null,
   "id": "a335f381",
   "metadata": {},
   "outputs": [],
   "source": [
    "for col in numeric_columns:\n",
    "    sns.boxenplot(x=df[col])\n",
    "    plt.show()"
   ]
  },
  {
   "cell_type": "code",
   "execution_count": null,
   "id": "b0c06317",
   "metadata": {},
   "outputs": [],
   "source": [
    "fig, axs = plt.subplots(nrows=2, ncols=3, figsize=(15, 10))  # Adjust the size to ensure plots are not squeezed\n",
    "\n",
    "for i, column in enumerate(numeric_columns):\n",
    "    # Locating the correct subplot using integer division and modulus\n",
    "    ax = axs[i // 3, i % 3]  # Row index is i//3, column index is i%3\n",
    "    sns.histplot(df[column], kde=True, ax=ax)\n",
    "    ax.set_title(column)\n",
    "\n",
    "# If the last subplot axis is unused, you can turn it off\n",
    "if len(numeric_columns) % 3 != 0:\n",
    "    for j in range(len(numeric_columns), 6):  # This will disable any unused subplots\n",
    "        axs.flat[j].set_visible(False)\n",
    "\n",
    "plt.tight_layout()\n",
    "plt.show()"
   ]
  },
  {
   "cell_type": "code",
   "execution_count": null,
   "id": "fef1b7ae",
   "metadata": {},
   "outputs": [],
   "source": [
    "df[df['age']>100]['age'].unique()"
   ]
  },
  {
   "cell_type": "code",
   "execution_count": null,
   "id": "b0623f03",
   "metadata": {},
   "outputs": [],
   "source": [
    "df1=df[df.age<=100]\n",
    "df1.age.describe()"
   ]
  },
  {
   "cell_type": "code",
   "execution_count": null,
   "id": "fab37889",
   "metadata": {},
   "outputs": [],
   "source": [
    "def get_iqr_bounds(col):\n",
    "    Q1, Q3=col.quantile([0.25,0.75])\n",
    "    IQR=Q3-Q1\n",
    "    lower_bound = Q1-1.5*IQR\n",
    "    upper_bound = Q3+1.5*IQR\n",
    "    return lower_bound, upper_bound\n",
    "lower, upper = get_iqr_bounds(df1['income_lakhs'])\n",
    "lower, upper"
   ]
  },
  {
   "cell_type": "code",
   "execution_count": null,
   "id": "7dcac386",
   "metadata": {},
   "outputs": [],
   "source": [
    "df1[df1.income_lakhs>upper].shape"
   ]
  },
  {
   "cell_type": "code",
   "execution_count": null,
   "id": "31b46ac6",
   "metadata": {},
   "outputs": [],
   "source": [
    "quantile_thresold = df1.income_lakhs.quantile(0.999)\n",
    "quantile_thresold"
   ]
  },
  {
   "cell_type": "code",
   "execution_count": null,
   "id": "9cffdb9a",
   "metadata": {},
   "outputs": [],
   "source": [
    "df1[df1.income_lakhs>quantile_thresold].shape"
   ]
  },
  {
   "cell_type": "code",
   "execution_count": null,
   "id": "976e8396",
   "metadata": {},
   "outputs": [],
   "source": [
    "df2 = df1[df1.income_lakhs<quantile_thresold].copy()\n",
    "df2"
   ]
  },
  {
   "cell_type": "code",
   "execution_count": null,
   "id": "239dc288",
   "metadata": {},
   "outputs": [],
   "source": [
    "fig, axs = plt.subplots(nrows=2, ncols=2, figsize=(10, 8))  # Adjust the size as necessary\n",
    "\n",
    "for i, column in enumerate(numeric_columns):\n",
    "    ax = axs[i//2, i%2]  # Determines the position of the subplot in the grid\n",
    "    sns.histplot(df2[column], kde=True, ax=ax)\n",
    "    ax.set_title(column)\n",
    "\n",
    "plt.tight_layout()\n",
    "plt.show()"
   ]
  },
  {
   "cell_type": "code",
   "execution_count": null,
   "id": "5cc34631",
   "metadata": {},
   "outputs": [],
   "source": [
    "for col in numeric_columns:\n",
    "    sns.histplot(df2[col], kde=True)\n",
    "    plt.show()"
   ]
  },
  {
   "cell_type": "code",
   "execution_count": null,
   "id": "9687445d",
   "metadata": {},
   "outputs": [],
   "source": [
    "sns.histplot(df2['age'], kde=True)\n",
    "plt.show()"
   ]
  },
  {
   "cell_type": "code",
   "execution_count": null,
   "id": "bb053ab1",
   "metadata": {},
   "outputs": [],
   "source": [
    "numeric_features = ['age', 'income_lakhs', 'number_of_dependants', 'genetical_risk']\n",
    "\n",
    "fig, axes = plt.subplots(1, len(numeric_features), figsize=(18, 6))  # Adjust figure size as necessary\n",
    "\n",
    "for ax, column in zip(axes, numeric_features):\n",
    "    sns.scatterplot(x=df2[column], y=df2['annual_premium_amount'], ax=ax)\n",
    "    ax.set_title(f'{column} vs. Annual Premium Amount')\n",
    "    ax.set_xlabel(column)\n",
    "    ax.set_ylabel('Annual Premium Amount')\n",
    "\n",
    "plt.tight_layout()  # Adjust layout\n",
    "plt.show()"
   ]
  },
  {
   "cell_type": "code",
   "execution_count": null,
   "id": "94d09cf4",
   "metadata": {},
   "outputs": [],
   "source": [
    "sns.scatterplot(data=df2, x='age', y='annual_premium_amount')"
   ]
  },
  {
   "cell_type": "code",
   "execution_count": null,
   "id": "910aed48",
   "metadata": {},
   "outputs": [],
   "source": [
    "sns.scatterplot(data=df2, x='age', y='income_lakhs')"
   ]
  },
  {
   "cell_type": "code",
   "execution_count": null,
   "id": "b5f3fbeb",
   "metadata": {},
   "outputs": [],
   "source": [
    "df2.head(1)"
   ]
  },
  {
   "cell_type": "code",
   "execution_count": null,
   "id": "28481579",
   "metadata": {},
   "outputs": [],
   "source": [
    "categorical_cols= ['gender','region','marital_status','bmi_category','smoking_status','employment_status','medical_history','medical_history','insurance_plan']\n",
    "for col in categorical_cols:\n",
    "    print(col, ':', df2[col].unique())"
   ]
  },
  {
   "cell_type": "code",
   "execution_count": null,
   "id": "616dd250",
   "metadata": {},
   "outputs": [],
   "source": [
    "df2['smoking_status'].replace({'Smoking=0':'No Smoking','Does Not Smoke':'No Smoking',\n",
    "                              'Not Smoking':'No Smoking'},\n",
    "                               inplace=True)\n",
    "df2['smoking_status'].unique()"
   ]
  },
  {
   "cell_type": "code",
   "execution_count": null,
   "id": "95b6b988",
   "metadata": {},
   "outputs": [],
   "source": [
    "pct_count=df2['gender'].value_counts(normalize=True)\n",
    "pct_count"
   ]
  },
  {
   "cell_type": "code",
   "execution_count": null,
   "id": "73bdcb49",
   "metadata": {},
   "outputs": [],
   "source": [
    "pct_count.values"
   ]
  },
  {
   "cell_type": "code",
   "execution_count": null,
   "id": "b7ff32d2",
   "metadata": {},
   "outputs": [],
   "source": [
    "sns.barplot(x=pct_count.index, y=pct_count.values)\n",
    "plt.show()"
   ]
  },
  {
   "cell_type": "code",
   "execution_count": null,
   "id": "5e7d7f77",
   "metadata": {},
   "outputs": [],
   "source": [
    "fig, axes = plt.subplots(3, 3, figsize=(18, 18))  # Adjust figure size as necessary\n",
    "axes = axes.flatten()  # Flatten the 2D array of axes into 1D for easier iteration\n",
    "\n",
    "for ax, column in zip(axes, categorical_cols):\n",
    "    # Calculate the percentage distribution of each category\n",
    "    category_counts = df2[column].value_counts(normalize=True) * 100  # normalize=True gives the relative frequencies\n",
    "    \n",
    "    # Plotting the distribution using barplot\n",
    "    sns.barplot(x=category_counts.index, y=category_counts.values, ax=ax)\n",
    "    ax.set_title(f'Percentage Distribution of {column}')\n",
    "    ax.set_ylabel('Percentage of Policyholders (%)')\n",
    "    ax.set_xlabel(column)  # Set xlabel to the column name for clarity\n",
    "\n",
    "plt.tight_layout()  # Adjusts plot parameters for better fit in the figure window\n",
    "plt.show()"
   ]
  },
  {
   "cell_type": "code",
   "execution_count": null,
   "id": "d5e926ac",
   "metadata": {},
   "outputs": [],
   "source": [
    "cross_tab=pd.crosstab(df2['income_level'], df2['insurance_plan'])\n",
    "cross_tab\n"
   ]
  },
  {
   "cell_type": "code",
   "execution_count": null,
   "id": "91d21e86",
   "metadata": {},
   "outputs": [],
   "source": [
    "cross_tab.plot(kind=\"bar\")\n",
    "plt.show()"
   ]
  },
  {
   "cell_type": "code",
   "execution_count": null,
   "id": "e665bd26",
   "metadata": {},
   "outputs": [],
   "source": [
    "cross_tab.plot(kind=\"bar\",stacked=True)\n",
    "plt.title('Income vs plan')\n",
    "plt.ylabel('count')\n",
    "plt.show()"
   ]
  },
  {
   "cell_type": "code",
   "execution_count": null,
   "id": "985b1bfa",
   "metadata": {},
   "outputs": [],
   "source": [
    "sns.heatmap(cross_tab, annot=True,fmt='d')\n",
    "plt.show()\n"
   ]
  },
  {
   "cell_type": "code",
   "execution_count": null,
   "id": "4cc45d02",
   "metadata": {},
   "outputs": [],
   "source": [
    " df.head(2)"
   ]
  },
  {
   "cell_type": "code",
   "execution_count": null,
   "id": "3f5fa656",
   "metadata": {},
   "outputs": [],
   "source": [
    "df2.medical_history.unique()"
   ]
  },
  {
   "cell_type": "code",
   "execution_count": null,
   "id": "56b72377",
   "metadata": {},
   "outputs": [],
   "source": [
    "risk_scores = {  \"diabetes\": 6,\n",
    "    \"heart disease\": 8,\n",
    "    \"high blood pressure\":6,\n",
    "    \"thyroid\": 5,\n",
    "    \"no disease\": 0,\n",
    "    \"none\":0}\n"
   ]
  },
  {
   "cell_type": "code",
   "execution_count": null,
   "id": "2364c20a",
   "metadata": {},
   "outputs": [],
   "source": [
    "df2[['disease1', 'disease2']] = df2['medical_history'].str.split(\" & \", expand=True).apply(lambda x: x.str.lower())\n",
    "df2['disease1'].fillna('none', inplace=True)\n",
    "df2['disease2'].fillna('none', inplace=True)\n",
    "df2['total_risk_score'] = 0\n",
    "\n",
    "for disease in ['disease1', 'disease2']:\n",
    "    df2['total_risk_score'] += df2[disease].map(risk_scores)\n",
    "\n",
    "# Normalize the risk score to a range of 0 to 1\n",
    "max_score = df2['total_risk_score'].max()\n",
    "min_score = df2['total_risk_score'].min()\n",
    "df2['normalized_risk_score'] = (df2['total_risk_score'] - min_score) / (max_score - min_score)\n",
    "df2.head(5)"
   ]
  },
  {
   "cell_type": "code",
   "execution_count": null,
   "id": "20713068",
   "metadata": {},
   "outputs": [],
   "source": [
    "df2.insurance_plan.unique()"
   ]
  },
  {
   "cell_type": "code",
   "execution_count": null,
   "id": "85ef57c9",
   "metadata": {},
   "outputs": [],
   "source": [
    "df2['insurance_plan'] = df2['insurance_plan'].map({'Bronze': 1, 'Silver': 2, 'Gold': 3})"
   ]
  },
  {
   "cell_type": "code",
   "execution_count": null,
   "id": "af833854",
   "metadata": {},
   "outputs": [],
   "source": [
    "df2['income_level'] = df2['income_level'].map({'<10L':1, '10L - 25L': 2, '25L - 40L':3, '> 40L':4})"
   ]
  },
  {
   "cell_type": "code",
   "execution_count": null,
   "id": "f590be4a",
   "metadata": {},
   "outputs": [],
   "source": [
    "df2.head()"
   ]
  },
  {
   "cell_type": "code",
   "execution_count": null,
   "id": "6a3402d2",
   "metadata": {},
   "outputs": [],
   "source": [
    "nominal_cols = ['gender', 'region', 'marital_status', 'bmi_category', 'smoking_status', 'employment_status']\n",
    "df3 = pd.get_dummies(df2, columns=nominal_cols, drop_first=True, dtype=int)\n",
    "df3.head(3)"
   ]
  },
  {
   "cell_type": "code",
   "execution_count": null,
   "id": "a7bd5457",
   "metadata": {},
   "outputs": [],
   "source": [
    "df3.info()"
   ]
  },
  {
   "cell_type": "code",
   "execution_count": null,
   "id": "b763006a",
   "metadata": {},
   "outputs": [],
   "source": [
    "df4 = df3.drop(['medical_history','disease1', 'disease2', 'total_risk_score'], axis=1)\n",
    "df4.head(3)  "
   ]
  },
  {
   "cell_type": "code",
   "execution_count": null,
   "id": "89f99917",
   "metadata": {},
   "outputs": [],
   "source": [
    "df4.columns"
   ]
  },
  {
   "cell_type": "code",
   "execution_count": null,
   "id": "7e2742fc",
   "metadata": {},
   "outputs": [],
   "source": [
    "cm = df4.corr()\n",
    "\n",
    "plt.figure(figsize=(20,12))\n",
    "sns.heatmap(cm, annot=True)\n",
    "plt.xticks(rotation=45, ha='right')\n",
    "plt.yticks(rotation=0)\n",
    "plt.tight_layout()\n",
    "plt.show()"
   ]
  },
  {
   "cell_type": "code",
   "execution_count": null,
   "id": "ac4b5d98",
   "metadata": {},
   "outputs": [],
   "source": [
    "df4.head(2)"
   ]
  },
  {
   "cell_type": "code",
   "execution_count": null,
   "id": "7345e49e",
   "metadata": {},
   "outputs": [],
   "source": [
    "X = df4.drop('annual_premium_amount', axis='columns')\n",
    "y = df4['annual_premium_amount']\n",
    "\n",
    "from sklearn.preprocessing import MinMaxScaler\n",
    "\n",
    "cols_to_scale = ['age','number_of_dependants', 'income_level',  'income_lakhs', 'insurance_plan','genetical_risk']\n",
    "scaler = MinMaxScaler()\n",
    "\n",
    "X[cols_to_scale] = scaler.fit_transform(X[cols_to_scale])\n",
    "X.describe()"
   ]
  },
  {
   "cell_type": "code",
   "execution_count": null,
   "id": "736c1329",
   "metadata": {},
   "outputs": [],
   "source": []
  },
  {
   "cell_type": "code",
   "execution_count": null,
   "id": "3c0dbc9a",
   "metadata": {},
   "outputs": [],
   "source": [
    "from statsmodels.stats.outliers_influence import variance_inflation_factor\n",
    "\n",
    "def calculate_vif(data):\n",
    "    vif_df = pd.DataFrame()\n",
    "    vif_df['Column'] = data.columns\n",
    "    vif_df['VIF'] = [variance_inflation_factor(data.values,i) for i in range(data.shape[1])]\n",
    "    return vif_df"
   ]
  },
  {
   "cell_type": "code",
   "execution_count": null,
   "id": "125a8153",
   "metadata": {},
   "outputs": [],
   "source": [
    "calculate_vif(X)"
   ]
  },
  {
   "cell_type": "code",
   "execution_count": null,
   "id": "6d36fd46",
   "metadata": {},
   "outputs": [],
   "source": [
    "calculate_vif(X.drop('income_level', axis = 'columns'))"
   ]
  },
  {
   "cell_type": "code",
   "execution_count": null,
   "id": "83fc2f90",
   "metadata": {},
   "outputs": [],
   "source": [
    "X_reduced=X.drop('income_level', axis='columns')\n",
    "X_reduced"
   ]
  },
  {
   "cell_type": "code",
   "execution_count": null,
   "id": "aa1ef2f4",
   "metadata": {},
   "outputs": [],
   "source": [
    "X_train, X_test, y_train, y_test = train_test_split(X_reduced, y, test_size=0.30, random_state=10)\n",
    "\n",
    "# shape of the X_train, X_test, y_train, y_test features\n",
    "print(\"x train: \",X_train.shape)\n",
    "print(\"x test: \",X_test.shape)\n",
    "print(\"y train: \",y_train.shape)\n",
    "print(\"y test: \",y_test.shape)"
   ]
  },
  {
   "cell_type": "code",
   "execution_count": null,
   "id": "093585a2",
   "metadata": {},
   "outputs": [],
   "source": [
    "model_lr = LinearRegression()\n",
    "model_lr.fit(X_train, y_train)\n",
    "test_score = model_lr.score(X_test, y_test)\n",
    "train_score = model_lr.score(X_train, y_train)\n",
    "train_score, test_score"
   ]
  },
  {
   "cell_type": "code",
   "execution_count": null,
   "id": "97768985",
   "metadata": {},
   "outputs": [],
   "source": [
    "model_lr.coef_"
   ]
  },
  {
   "cell_type": "code",
   "execution_count": null,
   "id": "56c93a00",
   "metadata": {},
   "outputs": [],
   "source": [
    "model_lr.intercept_"
   ]
  },
  {
   "cell_type": "code",
   "execution_count": null,
   "id": "949e45f1",
   "metadata": {},
   "outputs": [],
   "source": [
    "y_pred = model_lr.predict(X_test)\n",
    "\n",
    "mse_lr = mean_squared_error(y_test, y_pred)\n",
    "rmse_lr = np.sqrt(mse_lr)\n",
    "print(\"Linear Regression ==> MSE: \", mse_lr, \"RMSE: \", rmse_lr)"
   ]
  },
  {
   "cell_type": "code",
   "execution_count": null,
   "id": "6a36ec7c",
   "metadata": {},
   "outputs": [],
   "source": [
    "X_test.shape"
   ]
  },
  {
   "cell_type": "code",
   "execution_count": null,
   "id": "df1ceb78",
   "metadata": {},
   "outputs": [],
   "source": [
    "y_test.shape"
   ]
  },
  {
   "cell_type": "code",
   "execution_count": null,
   "id": "60117593",
   "metadata": {},
   "outputs": [],
   "source": [
    "X_train.shape"
   ]
  },
  {
   "cell_type": "code",
   "execution_count": null,
   "id": "0ee79673",
   "metadata": {},
   "outputs": [],
   "source": [
    "np.set_printoptions(suppress=True, precision=6)\n",
    "model_lr.coef_"
   ]
  },
  {
   "cell_type": "code",
   "execution_count": null,
   "id": "c5523e75",
   "metadata": {},
   "outputs": [],
   "source": [
    "feature_importance = model_lr.coef_\n",
    "\n",
    "# Create a DataFrame for easier handling\n",
    "coef_df = pd.DataFrame(feature_importance, index=X_train.columns, columns=['Coefficients'])\n",
    "\n",
    "# Sort the coefficients for better visualization\n",
    "coef_df = coef_df.sort_values(by='Coefficients', ascending=True)\n",
    "\n",
    "# Plotting\n",
    "plt.figure(figsize=(8, 4))\n",
    "plt.barh(coef_df.index, coef_df['Coefficients'], color='steelblue')\n",
    "plt.xlabel('Coefficient Value')\n",
    "plt.title('Feature Importance in Linear Regression')\n",
    "plt.show()"
   ]
  },
  {
   "cell_type": "code",
   "execution_count": null,
   "id": "993a5c1d",
   "metadata": {},
   "outputs": [],
   "source": [
    "model_rg = Ridge(alpha=1)\n",
    "model_rg.fit(X_train, y_train)\n",
    "test_score = model_rg.score(X_test, y_test)\n",
    "train_score = model_rg.score(X_train, y_train)\n",
    "train_score, test_score"
   ]
  },
  {
   "cell_type": "code",
   "execution_count": null,
   "id": "40279b97",
   "metadata": {},
   "outputs": [],
   "source": [
    "from xgboost import XGBRegressor\n",
    "model_xgb = XGBRegressor()\n",
    "model_xgb.fit(X_train, y_train)\n",
    "test_score = model_xgb.score(X_test, y_test)\n",
    "train_score = model_xgb.score(X_train, y_train)\n",
    "train_score, test_score"
   ]
  },
  {
   "cell_type": "code",
   "execution_count": null,
   "id": "6b95022c",
   "metadata": {},
   "outputs": [],
   "source": [
    "y_pred = model_xgb.predict(X_test)\n",
    "\n",
    "mse_xgb = mean_squared_error(y_test, y_pred)\n",
    "rmse_xgb = np.sqrt(mse_xgb)\n",
    "print(\"XGBOOST Regression ==> MSE: \", mse_xgb, \"RMSE: \", rmse_xgb)"
   ]
  },
  {
   "cell_type": "code",
   "execution_count": null,
   "id": "28c0b918",
   "metadata": {},
   "outputs": [],
   "source": [
    "model_xgb = XGBRegressor()\n",
    "param_grid = {\n",
    "    'n_estimators': [20, 40, 50],\n",
    "    'learning_rate': [0.01, 0.1, 0.2],\n",
    "    'max_depth': [3, 4, 5],\n",
    "}\n",
    "random_search = RandomizedSearchCV(model_xgb, param_grid, n_iter=10, cv=3, scoring='r2', random_state=42, n_jobs=-1)\n",
    "random_search.fit(X_train, y_train)\n",
    "random_search.best_score_"
   ]
  },
  {
   "cell_type": "code",
   "execution_count": null,
   "id": "9f02e548",
   "metadata": {},
   "outputs": [],
   "source": [
    "random_search.best_params_"
   ]
  },
  {
   "cell_type": "code",
   "execution_count": null,
   "id": "10d5fcd6",
   "metadata": {},
   "outputs": [],
   "source": [
    "best_model = random_search.best_estimator_"
   ]
  },
  {
   "cell_type": "code",
   "execution_count": null,
   "id": "1c28258c",
   "metadata": {},
   "outputs": [],
   "source": [
    "feature_importance = best_model.feature_importances_\n",
    "\n",
    "# Create a DataFrame for easier handling\n",
    "coef_df = pd.DataFrame(feature_importance, index=X_train.columns, columns=['Coefficients'])\n",
    "\n",
    "# Sort the coefficients for better visualization\n",
    "coef_df = coef_df.sort_values(by='Coefficients', ascending=True)\n",
    "\n",
    "# Plotting\n",
    "plt.figure(figsize=(8, 4))\n",
    "plt.barh(coef_df.index, coef_df['Coefficients'], color='steelblue')\n",
    "plt.xlabel('Coefficient Value')\n",
    "plt.title('Feature Importance in XGBoost')\n",
    "plt.show()"
   ]
  },
  {
   "cell_type": "markdown",
   "id": "18184b28",
   "metadata": {},
   "source": [
    "### error analysis"
   ]
  },
  {
   "cell_type": "code",
   "execution_count": null,
   "id": "9b1e8745",
   "metadata": {},
   "outputs": [],
   "source": [
    "y_pred = best_model.predict(X_test)\n",
    "\n",
    "residuals = y_pred - y_test\n",
    "residuals_pct = (residuals / y_test) * 100\n",
    "\n",
    "results_df = pd.DataFrame({\n",
    "    'actual': y_test, \n",
    "    'predicted': y_pred, \n",
    "    'diff': residuals, \n",
    "    'diff_pct': residuals_pct\n",
    "})\n",
    "results_df.head()"
   ]
  },
  {
   "cell_type": "code",
   "execution_count": null,
   "id": "4ad4dee7",
   "metadata": {},
   "outputs": [],
   "source": [
    "sns.histplot(results_df['diff_pct'], kde=True)\n",
    "plt.title('Distribution of Residuals')\n",
    "plt.xlabel('Diff PCT')\n",
    "plt.ylabel('Frequency')\n",
    "plt.show()"
   ]
  },
  {
   "cell_type": "code",
   "execution_count": null,
   "id": "e7e88e47",
   "metadata": {},
   "outputs": [],
   "source": [
    "results_df[np.abs(results_df.diff_pct)>10]"
   ]
  },
  {
   "cell_type": "code",
   "execution_count": null,
   "id": "b8b2ab4d",
   "metadata": {},
   "outputs": [],
   "source": [
    "extreme_error_threshold = 10  # You can adjust this threshold based on your domain knowledge or requirements\n",
    "extreme_results_df = results_df[np.abs(results_df['diff_pct']) > extreme_error_threshold]\n",
    "extreme_results_df.head()"
   ]
  },
  {
   "cell_type": "code",
   "execution_count": null,
   "id": "89aec17c",
   "metadata": {},
   "outputs": [],
   "source": [
    "extreme_results_df.shape"
   ]
  },
  {
   "cell_type": "code",
   "execution_count": null,
   "id": "a7de2568",
   "metadata": {},
   "outputs": [],
   "source": [
    "extreme_errors_pct = extreme_results_df.shape[0]*100/X_test.shape[0]\n",
    "extreme_errors_pct"
   ]
  },
  {
   "cell_type": "code",
   "execution_count": null,
   "id": "7b90ec23",
   "metadata": {},
   "outputs": [],
   "source": [
    "results_df[np.abs(results_df.diff_pct)>50]"
   ]
  },
  {
   "cell_type": "code",
   "execution_count": null,
   "id": "ee2971df",
   "metadata": {},
   "outputs": [],
   "source": [
    "extreme_results_df[abs(extreme_results_df.diff_pct)>50].sort_values(\"diff_pct\",ascending=False)"
   ]
  },
  {
   "cell_type": "code",
   "execution_count": null,
   "id": "ec931f1d",
   "metadata": {},
   "outputs": [],
   "source": [
    "extreme_results_df.index"
   ]
  },
  {
   "cell_type": "code",
   "execution_count": null,
   "id": "18f189f2",
   "metadata": {},
   "outputs": [],
   "source": [
    "X_test.index"
   ]
  },
  {
   "cell_type": "code",
   "execution_count": null,
   "id": "b665ff54",
   "metadata": {},
   "outputs": [],
   "source": [
    "extreme_errors_df = X_test.loc[extreme_results_df.index]\n",
    "extreme_errors_df"
   ]
  },
  {
   "cell_type": "code",
   "execution_count": null,
   "id": "525a11bf",
   "metadata": {},
   "outputs": [],
   "source": [
    "for feature in X_test.columns:\n",
    "    plt.figure(figsize=(10, 4))\n",
    "    sns.histplot(extreme_errors_df[feature], color='red', label='Extreme Errors', kde=True)\n",
    "    sns.histplot(X_test[feature], color='blue', label='Overall', alpha=0.5, kde=True)\n",
    "    plt.legend()\n",
    "    plt.title(f'Distribution of {feature} for Extreme Errors vs Overall')\n",
    "    plt.show()"
   ]
  },
  {
   "cell_type": "code",
   "execution_count": null,
   "id": "3a14e35e",
   "metadata": {},
   "outputs": [],
   "source": [
    "extreme_errors_df['income_level']=-1"
   ]
  },
  {
   "cell_type": "code",
   "execution_count": null,
   "id": "3d2b74c3",
   "metadata": {},
   "outputs": [],
   "source": [
    "df_reversed = pd.DataFrame()\n",
    "df_reversed[cols_to_scale] = scaler.inverse_transform(extreme_errors_df[cols_to_scale])\n",
    "df_reversed.head()"
   ]
  },
  {
   "cell_type": "code",
   "execution_count": null,
   "id": "89d5b425",
   "metadata": {},
   "outputs": [],
   "source": [
    "df_reversed.describe()"
   ]
  },
  {
   "cell_type": "code",
   "execution_count": null,
   "id": "357ad500",
   "metadata": {},
   "outputs": [],
   "source": [
    "sns.histplot(df_reversed.age)"
   ]
  },
  {
   "cell_type": "code",
   "execution_count": null,
   "id": "7d37a343",
   "metadata": {},
   "outputs": [],
   "source": [
    "from joblib import dump\n",
    "dump(best_model, \"artifacts/model_rest.joblib\")"
   ]
  },
  {
   "cell_type": "code",
   "execution_count": null,
   "id": "22cf12ac",
   "metadata": {},
   "outputs": [],
   "source": [
    "scaler_with_cols={\n",
    "    'scaler':scaler,\n",
    "    'cols_to_scale':cols_to_scale\n",
    "}\n",
    "scaler_with_cols"
   ]
  },
  {
   "cell_type": "code",
   "execution_count": null,
   "id": "b7d11581",
   "metadata": {},
   "outputs": [],
   "source": [
    "dump(scaler_with_cols, \"artifacts/scaler_young_rest.joblib\")"
   ]
  },
  {
   "cell_type": "code",
   "execution_count": null,
   "id": "0e9f5832",
   "metadata": {},
   "outputs": [],
   "source": [
    "x_test.head()"
   ]
  },
  {
   "cell_type": "code",
   "execution_count": null,
   "id": "8936133a",
   "metadata": {},
   "outputs": [],
   "source": []
  }
 ],
 "metadata": {
  "kernelspec": {
   "display_name": "Python 3 (ipykernel)",
   "language": "python",
   "name": "python3"
  },
  "language_info": {
   "codemirror_mode": {
    "name": "ipython",
    "version": 3
   },
   "file_extension": ".py",
   "mimetype": "text/x-python",
   "name": "python",
   "nbconvert_exporter": "python",
   "pygments_lexer": "ipython3",
   "version": "3.9.13"
  }
 },
 "nbformat": 4,
 "nbformat_minor": 5
}
